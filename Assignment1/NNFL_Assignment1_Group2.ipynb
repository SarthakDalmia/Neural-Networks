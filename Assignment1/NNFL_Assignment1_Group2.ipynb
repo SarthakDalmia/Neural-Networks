{
  "nbformat": 4,
  "nbformat_minor": 0,
  "metadata": {
    "colab": {
      "name": "NNFL_Assignment1_Group2.ipynb",
      "provenance": [],
      "collapsed_sections": [],
      "toc_visible": true
    },
    "kernelspec": {
      "name": "python3",
      "display_name": "Python 3"
    },
    "accelerator": "GPU"
  },
  "cells": [
    {
      "cell_type": "markdown",
      "metadata": {
        "id": "c17mQR6lBa29"
      },
      "source": [
        "###Import data from drive\n"
      ]
    },
    {
      "cell_type": "code",
      "metadata": {
        "id": "_BJbmuugZc3q"
      },
      "source": [
        "#importing all the relevant libraries\r\n",
        "import pandas as pd\r\n",
        "import numpy as np\r\n",
        "from sklearn.model_selection import train_test_split\r\n",
        "import tensorflow as tf\r\n",
        "import numpy as np\r\n",
        "from keras.utils import np_utils\r\n",
        "from tensorflow.keras.preprocessing.image import ImageDataGenerator\r\n",
        "from keras import models\r\n",
        "from keras.layers import Dense, Dropout, Flatten, Conv2D, MaxPool2D, BatchNormalization\r\n",
        "from keras.optimizers import RMSprop,Adam, SGD\r\n",
        "from keras.utils import to_categorical\r\n",
        "import matplotlib.pyplot as plt\r\n",
        "\r\n"
      ],
      "execution_count": null,
      "outputs": []
    },
    {
      "cell_type": "code",
      "metadata": {
        "id": "2dCCc-OEgLoq",
        "colab": {
          "base_uri": "https://localhost:8080/"
        },
        "outputId": "93f717c6-8147-4719-e81b-418602dc7244"
      },
      "source": [
        "#mounting and unzipping the dataset.zip file provided\n",
        "from google.colab import drive\n",
        "drive.mount('/gdrive')\n",
        "!cd /content/gdrive/MyDrive/\n",
        "!unzip /gdrive/MyDrive/dataset.zip"
      ],
      "execution_count": null,
      "outputs": [
        {
          "output_type": "stream",
          "text": [
            "Mounted at /gdrive\n",
            "/bin/bash: line 0: cd: /content/gdrive/MyDrive/: No such file or directory\n",
            "Archive:  /gdrive/MyDrive/dataset.zip\n",
            "   creating: dataset/\n",
            "  inflating: dataset/train.csv       \n",
            "  inflating: dataset/readme.txt      \n"
          ],
          "name": "stdout"
        }
      ]
    },
    {
      "cell_type": "code",
      "metadata": {
        "id": "-QsCZLDNA03m"
      },
      "source": [
        "#importing the dataset\n",
        "df = pd.read_csv('dataset/train.csv')"
      ],
      "execution_count": null,
      "outputs": []
    },
    {
      "cell_type": "code",
      "metadata": {
        "id": "iix2qpK_KByz"
      },
      "source": [
        "#hyperparams:\r\n",
        "batch_size=64\r\n",
        "epochs=15"
      ],
      "execution_count": null,
      "outputs": []
    },
    {
      "cell_type": "code",
      "metadata": {
        "id": "_SUWkxQbM6Nz"
      },
      "source": [
        "#data preprocessing\n",
        "df_train = df\n",
        "\n",
        "#converting the data into the required format using numpy array\n",
        "train_labels = df_train['emotion'].to_numpy()\n",
        "train_samples = len(train_labels)\n",
        "train_labels = train_labels.reshape((train_samples, 1))\n",
        "train_data = df_train['pixels'].to_numpy()\n",
        "for i, data_point in enumerate(train_data):\n",
        "  a = data_point.split(\" \")\n",
        "  data_point = np.array([int(pix_val) for pix_val in a])\n",
        "  train_data[i] = data_point\n",
        "\n",
        "#additional code provided for the test data n which the model is to be tested \n",
        "# public_test_labels = df_public_test['emotion'].to_numpy()\n",
        "# public_test_samples = len(public_test_labels)\n",
        "# public_test_labels = public_test_labels.reshape((public_test_samples, 1))\n",
        "# public_test_data = df_public_test['pixels'].to_numpy()\n",
        "# for i, data_point in enumerate(public_test_data):\n",
        "#   a = data_point.split(\" \")\n",
        "#   data_point = np.array([int(pix_val) for pix_val in a])\n",
        "#   public_test_data[i] = data_point\n",
        " \n",
        "#creating a  numpy array of the train data and the test data\n",
        "train_data = np.array([image.reshape((48, 48, 1)) for image in train_data])\n",
        "# public_test_data = np.array([image.reshape((48, 48, 1)) for image in public_test_data])\n",
        "\n",
        "train_data = train_data / 255.0\n",
        "train_labels = to_categorical(train_labels)\n",
        "# public_test_data = public_test_data / 255.0"
      ],
      "execution_count": null,
      "outputs": []
    },
    {
      "cell_type": "code",
      "metadata": {
        "colab": {
          "base_uri": "https://localhost:8080/"
        },
        "id": "U9p-QxOyG9E2",
        "outputId": "360b9ca3-6bd5-4171-c88b-d136e13150a3"
      },
      "source": [
        "#the cnn model\r\n",
        "model=models.Sequential()\r\n",
        "\r\n",
        "model.add(Conv2D(filters = 32, kernel_size = (2,2),padding = 'Same', activation ='relu', input_shape = (48,48,1)))\r\n",
        "model.add(BatchNormalization())\r\n",
        "model.add(Conv2D(filters = 32, kernel_size = (2,2),padding = 'Same', activation ='relu'))\r\n",
        "model.add(BatchNormalization())\r\n",
        "model.add(MaxPool2D(pool_size=(2,2)))\r\n",
        "model.add(Dropout(0.3))\r\n",
        "\r\n",
        "model.add(Conv2D(filters = 64, kernel_size = (3,3),padding = 'Same', activation ='relu'))\r\n",
        "model.add(BatchNormalization())\r\n",
        "model.add(Conv2D(filters = 64, kernel_size = (3,3),padding = 'Same', activation ='relu'))\r\n",
        "model.add(BatchNormalization())\r\n",
        "model.add(MaxPool2D(pool_size=(2,2), strides=(2,2)))\r\n",
        "model.add(Dropout(0.3))\r\n",
        "\r\n",
        "model.add(Conv2D(filters = 128, kernel_size = (3,3),padding = 'Same', activation ='relu'))\r\n",
        "model.add(BatchNormalization())\r\n",
        "#model.add(Conv2D(filters = 128, kernel_size = (3,3),padding = 'Same', activation ='relu'))\r\n",
        "#model.add(BatchNormalization())\r\n",
        "#model.add(Conv2D(filters = 128, kernel_size = (3,3),padding = 'Same', activation ='relu'))\r\n",
        "#model.add(BatchNormalization())\r\n",
        "model.add(MaxPool2D(pool_size=(2,2), strides=(2,2)))\r\n",
        "model.add(Dropout(0.3))\r\n",
        "\r\n",
        "model.add(Conv2D(filters = 256, kernel_size = (3,3),padding = 'Same', activation ='relu'))\r\n",
        "model.add(BatchNormalization())\r\n",
        "#model.add(Conv2D(filters = 256, kernel_size = (3,3),padding = 'Same', activation ='relu'))\r\n",
        "#model.add(BatchNormalization())\r\n",
        "#model.add(Conv2D(filters = 256, kernel_size = (3,3),padding = 'Same', activation ='relu'))\r\n",
        "#model.add(BatchNormalization())\r\n",
        "model.add(MaxPool2D(pool_size=(2,2), strides=(2,2)))\r\n",
        "model.add(Dropout(0.3))\r\n",
        "\r\n",
        "\r\n",
        "model.add(Conv2D(filters = 256, kernel_size = (2,2),padding = 'Same', activation ='relu'))\r\n",
        "model.add(BatchNormalization())\r\n",
        "#model.add(Conv2D(filters = 256, kernel_size = (5,5),padding = 'Same', activation ='relu'))\r\n",
        "#model.add(BatchNormalization())\r\n",
        "#model.add(Conv2D(filters = 256, kernel_size = (5,5),padding = 'Same', activation ='relu'))\r\n",
        "#model.add(BatchNormalization())\r\n",
        "model.add(MaxPool2D(pool_size=(2,2), strides=(2,2)))\r\n",
        "model.add(Dropout(0.3))\r\n",
        "\r\n",
        "model.add(Flatten())\r\n",
        "#the fully connected layer\r\n",
        "model.add(Dense(512, activation = \"relu\"))\r\n",
        "model.add(BatchNormalization())\r\n",
        "model.add(Dropout(0.3))\r\n",
        "model.add(Dense(7, activation = \"softmax\"))\r\n",
        "\r\n",
        "#compiling the model defined above\r\n",
        "model.compile(optimizer=Adam(lr=1e-3), loss='categorical_crossentropy', metrics=['accuracy',tf.keras.metrics.Recall(),tf.keras.metrics.Precision()])\r\n",
        "\r\n",
        "model.summary()"
      ],
      "execution_count": null,
      "outputs": [
        {
          "output_type": "stream",
          "text": [
            "Model: \"sequential_9\"\n",
            "_________________________________________________________________\n",
            "Layer (type)                 Output Shape              Param #   \n",
            "=================================================================\n",
            "conv2d_63 (Conv2D)           (None, 48, 48, 32)        160       \n",
            "_________________________________________________________________\n",
            "batch_normalization_72 (Batc (None, 48, 48, 32)        128       \n",
            "_________________________________________________________________\n",
            "conv2d_64 (Conv2D)           (None, 48, 48, 32)        4128      \n",
            "_________________________________________________________________\n",
            "batch_normalization_73 (Batc (None, 48, 48, 32)        128       \n",
            "_________________________________________________________________\n",
            "max_pooling2d_45 (MaxPooling (None, 24, 24, 32)        0         \n",
            "_________________________________________________________________\n",
            "dropout_54 (Dropout)         (None, 24, 24, 32)        0         \n",
            "_________________________________________________________________\n",
            "conv2d_65 (Conv2D)           (None, 24, 24, 64)        18496     \n",
            "_________________________________________________________________\n",
            "batch_normalization_74 (Batc (None, 24, 24, 64)        256       \n",
            "_________________________________________________________________\n",
            "conv2d_66 (Conv2D)           (None, 24, 24, 64)        36928     \n",
            "_________________________________________________________________\n",
            "batch_normalization_75 (Batc (None, 24, 24, 64)        256       \n",
            "_________________________________________________________________\n",
            "max_pooling2d_46 (MaxPooling (None, 12, 12, 64)        0         \n",
            "_________________________________________________________________\n",
            "dropout_55 (Dropout)         (None, 12, 12, 64)        0         \n",
            "_________________________________________________________________\n",
            "conv2d_67 (Conv2D)           (None, 12, 12, 128)       73856     \n",
            "_________________________________________________________________\n",
            "batch_normalization_76 (Batc (None, 12, 12, 128)       512       \n",
            "_________________________________________________________________\n",
            "max_pooling2d_47 (MaxPooling (None, 6, 6, 128)         0         \n",
            "_________________________________________________________________\n",
            "dropout_56 (Dropout)         (None, 6, 6, 128)         0         \n",
            "_________________________________________________________________\n",
            "conv2d_68 (Conv2D)           (None, 6, 6, 256)         295168    \n",
            "_________________________________________________________________\n",
            "batch_normalization_77 (Batc (None, 6, 6, 256)         1024      \n",
            "_________________________________________________________________\n",
            "max_pooling2d_48 (MaxPooling (None, 3, 3, 256)         0         \n",
            "_________________________________________________________________\n",
            "dropout_57 (Dropout)         (None, 3, 3, 256)         0         \n",
            "_________________________________________________________________\n",
            "conv2d_69 (Conv2D)           (None, 3, 3, 256)         262400    \n",
            "_________________________________________________________________\n",
            "batch_normalization_78 (Batc (None, 3, 3, 256)         1024      \n",
            "_________________________________________________________________\n",
            "max_pooling2d_49 (MaxPooling (None, 1, 1, 256)         0         \n",
            "_________________________________________________________________\n",
            "dropout_58 (Dropout)         (None, 1, 1, 256)         0         \n",
            "_________________________________________________________________\n",
            "flatten_9 (Flatten)          (None, 256)               0         \n",
            "_________________________________________________________________\n",
            "dense_18 (Dense)             (None, 512)               131584    \n",
            "_________________________________________________________________\n",
            "batch_normalization_79 (Batc (None, 512)               2048      \n",
            "_________________________________________________________________\n",
            "dropout_59 (Dropout)         (None, 512)               0         \n",
            "_________________________________________________________________\n",
            "dense_19 (Dense)             (None, 7)                 3591      \n",
            "=================================================================\n",
            "Total params: 831,687\n",
            "Trainable params: 828,999\n",
            "Non-trainable params: 2,688\n",
            "_________________________________________________________________\n"
          ],
          "name": "stdout"
        }
      ]
    },
    {
      "cell_type": "code",
      "metadata": {
        "colab": {
          "base_uri": "https://localhost:8080/"
        },
        "id": "i71VYldrHF1n",
        "outputId": "9f920b20-a6d8-4f55-bf67-2e227d3250ca"
      },
      "source": [
        "history = model.fit(train_data, train_labels, batch_size = batch_size, epochs = epochs, validation_split=0.2)"
      ],
      "execution_count": null,
      "outputs": [
        {
          "output_type": "stream",
          "text": [
            "Epoch 1/15\n",
            "437/437 [==============================] - 8s 18ms/step - loss: 0.7456 - accuracy: 0.7215 - recall_8: 0.6409 - precision_8: 0.7960 - val_loss: 1.0074 - val_accuracy: 0.6523 - val_recall_8: 0.5874 - val_precision_8: 0.7144\n",
            "Epoch 2/15\n",
            "437/437 [==============================] - 8s 18ms/step - loss: 0.7281 - accuracy: 0.7284 - recall_8: 0.6513 - precision_8: 0.8026 - val_loss: 1.0014 - val_accuracy: 0.6496 - val_recall_8: 0.5860 - val_precision_8: 0.7200\n",
            "Epoch 3/15\n",
            "437/437 [==============================] - 8s 18ms/step - loss: 0.7238 - accuracy: 0.7303 - recall_8: 0.6534 - precision_8: 0.8004 - val_loss: 1.0205 - val_accuracy: 0.6433 - val_recall_8: 0.5827 - val_precision_8: 0.7098\n",
            "Epoch 4/15\n",
            "437/437 [==============================] - 8s 18ms/step - loss: 0.7212 - accuracy: 0.7311 - recall_8: 0.6528 - precision_8: 0.7996 - val_loss: 1.0263 - val_accuracy: 0.6546 - val_recall_8: 0.5950 - val_precision_8: 0.7116\n",
            "Epoch 5/15\n",
            "437/437 [==============================] - 8s 18ms/step - loss: 0.7069 - accuracy: 0.7382 - recall_8: 0.6626 - precision_8: 0.8025 - val_loss: 0.9896 - val_accuracy: 0.6552 - val_recall_8: 0.5909 - val_precision_8: 0.7246\n",
            "Epoch 6/15\n",
            "437/437 [==============================] - 8s 18ms/step - loss: 0.6899 - accuracy: 0.7435 - recall_8: 0.6740 - precision_8: 0.8096 - val_loss: 1.0332 - val_accuracy: 0.6520 - val_recall_8: 0.5966 - val_precision_8: 0.7104\n",
            "Epoch 7/15\n",
            "437/437 [==============================] - 8s 18ms/step - loss: 0.6925 - accuracy: 0.7416 - recall_8: 0.6713 - precision_8: 0.8080 - val_loss: 1.0362 - val_accuracy: 0.6542 - val_recall_8: 0.6053 - val_precision_8: 0.7055\n",
            "Epoch 8/15\n",
            "437/437 [==============================] - 8s 18ms/step - loss: 0.6717 - accuracy: 0.7499 - recall_8: 0.6862 - precision_8: 0.8135 - val_loss: 1.0080 - val_accuracy: 0.6531 - val_recall_8: 0.5963 - val_precision_8: 0.7168\n",
            "Epoch 9/15\n",
            "437/437 [==============================] - 8s 18ms/step - loss: 0.6697 - accuracy: 0.7509 - recall_8: 0.6864 - precision_8: 0.8145 - val_loss: 1.0166 - val_accuracy: 0.6582 - val_recall_8: 0.6045 - val_precision_8: 0.7170\n",
            "Epoch 10/15\n",
            "437/437 [==============================] - 8s 18ms/step - loss: 0.6531 - accuracy: 0.7552 - recall_8: 0.6931 - precision_8: 0.8149 - val_loss: 1.0168 - val_accuracy: 0.6622 - val_recall_8: 0.6106 - val_precision_8: 0.7188\n",
            "Epoch 11/15\n",
            "437/437 [==============================] - 8s 18ms/step - loss: 0.6469 - accuracy: 0.7584 - recall_8: 0.6968 - precision_8: 0.8168 - val_loss: 1.0366 - val_accuracy: 0.6594 - val_recall_8: 0.6076 - val_precision_8: 0.7061\n",
            "Epoch 12/15\n",
            "437/437 [==============================] - 8s 18ms/step - loss: 0.6304 - accuracy: 0.7651 - recall_8: 0.7068 - precision_8: 0.8218 - val_loss: 1.0155 - val_accuracy: 0.6609 - val_recall_8: 0.6116 - val_precision_8: 0.7173\n",
            "Epoch 13/15\n",
            "437/437 [==============================] - 8s 18ms/step - loss: 0.6306 - accuracy: 0.7668 - recall_8: 0.7081 - precision_8: 0.8207 - val_loss: 1.0205 - val_accuracy: 0.6562 - val_recall_8: 0.6081 - val_precision_8: 0.7142\n",
            "Epoch 14/15\n",
            "437/437 [==============================] - 8s 18ms/step - loss: 0.6219 - accuracy: 0.7721 - recall_8: 0.7135 - precision_8: 0.8232 - val_loss: 1.0371 - val_accuracy: 0.6483 - val_recall_8: 0.5914 - val_precision_8: 0.7103\n",
            "Epoch 15/15\n",
            "437/437 [==============================] - 8s 18ms/step - loss: 0.6140 - accuracy: 0.7710 - recall_8: 0.7148 - precision_8: 0.8266 - val_loss: 1.0443 - val_accuracy: 0.6575 - val_recall_8: 0.6073 - val_precision_8: 0.7074\n"
          ],
          "name": "stdout"
        }
      ]
    },
    {
      "cell_type": "code",
      "metadata": {
        "id": "0WjhDbQXVbtl",
        "colab": {
          "base_uri": "https://localhost:8080/",
          "height": 873
        },
        "outputId": "8c6c39b7-ce89-4afd-bf33-e242ca538278"
      },
      "source": [
        "fig, (ax1, ax2) = plt.subplots(2, 1, figsize=(12, 12))\r\n",
        "ax1.plot(history.history['loss'], color='b', label=\"Training loss\")\r\n",
        "ax1.plot(history.history['val_loss'], color='r', label=\"validation loss\")\r\n",
        "ax1.set_xticks(np.arange(1, epochs, 1))\r\n",
        "ax1.set_yticks(np.arange(0, 1, 0.1))\r\n",
        "\r\n",
        "ax2.plot(history.history['accuracy'], color='b', label=\"Training accuracy\")\r\n",
        "ax2.plot(history.history['val_accuracy'], color='r',label=\"Validation accuracy\")\r\n",
        "ax2.set_xticks(np.arange(1, epochs, 1))\r\n",
        "\r\n",
        "legend = plt.legend(loc='best', shadow=True)\r\n",
        "plt.tight_layout()\r\n",
        "plt.show()"
      ],
      "execution_count": null,
      "outputs": [
        {
          "output_type": "display_data",
          "data": {
            "image/png": "[encoded data removed]",
            "text/plain": [
              "<Figure size 864x864 with 2 Axes>"
            ]
          },
          "metadata": {
            "tags": [],
            "needs_background": "light"
          }
        }
      ]
    },
    {
      "cell_type": "code",
      "metadata": {
        "id": "Ax4Yy9MKSwGA"
      },
      "source": [
        "model.save(\"/gdrive/MyDrive/model\")"
      ],
      "execution_count": null,
      "outputs": []
    },
    {
      "cell_type": "code",
      "metadata": {
        "id": "8pjcQeuzWBI3"
      },
      "source": [
        ""
      ],
      "execution_count": null,
      "outputs": []
    }
  ]
}